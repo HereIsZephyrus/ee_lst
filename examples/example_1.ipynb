{
  "cells": [
    {
      "cell_type": "code",
      "execution_count": null,
      "id": "a6186a3b-537b-4678-8199-021a0a3e957a",
      "metadata": {
        "jupyter": {
          "outputs_hidden": false,
          "source_hidden": false
        },
        "noteable": {
          "cell_type": "code"
        }
      },
      "outputs": [],
      "source": []
    },
    {
      "cell_type": "markdown",
      "id": "27c7ba38-7588-4597-966a-938df4f3c29d",
      "metadata": {
        "noteable": {
          "cell_type": "markdown"
        }
      },
      "source": [
        "# Landsat LST Example\n",
        "\n",
        "In this notebook, we will demonstrate how to fetch and visualize Landsat Land Surface Temperature (LST) data using the `ee_lst` library and Google Earth Engine API. We'll use `geemap` for interactive map visualizations with layer controls.\n",
        "The layers are derived from the `example_1.py` script, and the explanations are based on the paper titled [\"A Google Earth Engine Free App for Estimating Near-Real Time Daily Surface Temperature from Landsat Data\"](https://www.mdpi.com/2072-4292/12/9/1471/pdf?version=1589365556)."
      ]
    },
    {
      "cell_type": "code",
      "execution_count": 1,
      "id": "6b7cfad2-ba2d-4143-bf4d-c006d36aeb2c",
      "metadata": {
        "noteable": {
          "cell_type": "code"
        }
      },
      "outputs": [],
      "source": [
        "import ee"
      ]
    },
    {
      "cell_type": "code",
      "execution_count": 2,
      "id": "eb1ca586",
      "metadata": {},
      "outputs": [],
      "source": [
        "# Initialize the Earth Engine API\n",
        "if not ee.data._initialized:\n",
        "    try:\n",
        "        ee.Initialize()\n",
        "    except Exception as e:\n",
        "        print(\"Please authenticate Google Earth Engine first.\")\n",
        "        ee.Authenticate()\n",
        "        ee.Initialize()"
      ]
    },
    {
      "cell_type": "markdown",
      "id": "2319a9ab-d975-433b-8b67-95c6ca410d9a",
      "metadata": {
        "noteable": {
          "cell_type": "markdown"
        }
      },
      "source": [
        "## Fetching Landsat Data\n",
        "\n",
        "We will fetch Landsat data for a specific region and time range. The data will include added variables such as NDVI, FVC, TPW, EM, and LST."
      ]
    },
    {
      "cell_type": "code",
      "execution_count": null,
      "id": "a6550263",
      "metadata": {},
      "outputs": [],
      "source": [
        "%pip install -q git+https://github.com/lunasilvestre/ee_lst.git"
      ]
    },
    {
      "cell_type": "code",
      "execution_count": 3,
      "id": "e3805c69",
      "metadata": {},
      "outputs": [],
      "source": [
        "from modules.landsat_lst import fetch_landsat_collection"
      ]
    },
    {
      "cell_type": "code",
      "execution_count": 4,
      "id": "5baeff27-ddfd-41d3-8b12-68c4d78ad4f6",
      "metadata": {
        "ExecuteTime": {
          "end_time": "2023-09-10T10:43:49.758197+00:00",
          "start_time": "2023-09-10T10:43:49.407534+00:00"
        },
        "noteable": {
          "cell_type": "code",
          "output_collection_id": "b27c00f7-8e69-4953-bc49-87e1b6f73e2a"
        }
      },
      "outputs": [],
      "source": [
        "# Define parameters\n",
        "geometry = ee.Geometry.Rectangle([-8.91, 40.0, -8.3, 40.4])\n",
        "satellite = 'L8'\n",
        "date_start = '2023-05-15'\n",
        "date_end = '2023-10-15'\n",
        "use_ndvi = True\n",
        "\n",
        "# Get Landsat collection with added variables: NDVI, FVC, TPW, EM, LST\n",
        "landsat_coll = fetch_landsat_collection(satellite, date_start, date_end, geometry, use_ndvi)\n",
        "landsat_coll = landsat_coll.sort('TIMESTAMP')"
      ]
    },
    {
      "cell_type": "markdown",
      "id": "0bc0c3e9-0e73-452a-9145-7ef8c6245c4e",
      "metadata": {
        "noteable": {
          "cell_type": "markdown"
        }
      },
      "source": [
        "## Visualizing Landsat Data with geemap\n",
        "\n",
        "Now that we have fetched the Landsat data, let's visualize it on an interactive map using `geemap`. We will display the Land Surface Temperature (LST) layer."
      ]
    },
    {
      "cell_type": "code",
      "execution_count": 13,
      "id": "b0cf9092",
      "metadata": {},
      "outputs": [
        {
          "data": {
            "text/html": [
              "\n",
              "            <style>\n",
              "                .geemap-dark {\n",
              "                    --jp-widgets-color: white;\n",
              "                    --jp-widgets-label-color: white;\n",
              "                    --jp-ui-font-color1: white;\n",
              "                    --jp-layout-color2: #454545;\n",
              "                    background-color: #383838;\n",
              "                }\n",
              "                    \n",
              "                .geemap-dark .jupyter-button {\n",
              "                    --jp-layout-color3: #383838;\n",
              "                }\n",
              "                \n",
              "                .geemap-colab {\n",
              "                    background-color: var(--colab-primary-surface-color, white);\n",
              "                }\n",
              "                    \n",
              "                .geemap-colab .jupyter-button {\n",
              "                    --jp-layout-color3: var(--colab-primary-surface-color, white);\n",
              "                }\n",
              "            </style>\n",
              "            "
            ],
            "text/plain": [
              "<IPython.core.display.HTML object>"
            ]
          },
          "metadata": {},
          "output_type": "display_data"
        },
        {
          "name": "stdout",
          "output_type": "stream",
          "text": [
            "/bin/bash: line 1: jupyter-nbextension: command not found\n"
          ]
        }
      ],
      "source": [
        "%pip install ipyleaflet\n",
        "# !jupyter-nbextension enable --py --sys-prefix ipyleaflet"
      ]
    },
    {
      "cell_type": "code",
      "execution_count": 18,
      "id": "a8f9897d",
      "metadata": {},
      "outputs": [
        {
          "data": {
            "text/html": [
              "\n",
              "            <style>\n",
              "                .geemap-dark {\n",
              "                    --jp-widgets-color: white;\n",
              "                    --jp-widgets-label-color: white;\n",
              "                    --jp-ui-font-color1: white;\n",
              "                    --jp-layout-color2: #454545;\n",
              "                    background-color: #383838;\n",
              "                }\n",
              "                    \n",
              "                .geemap-dark .jupyter-button {\n",
              "                    --jp-layout-color3: #383838;\n",
              "                }\n",
              "                \n",
              "                .geemap-colab {\n",
              "                    background-color: var(--colab-primary-surface-color, white);\n",
              "                }\n",
              "                    \n",
              "                .geemap-colab .jupyter-button {\n",
              "                    --jp-layout-color3: var(--colab-primary-surface-color, white);\n",
              "                }\n",
              "            </style>\n",
              "            "
            ],
            "text/plain": [
              "<IPython.core.display.HTML object>"
            ]
          },
          "metadata": {},
          "output_type": "display_data"
        },
        {
          "name": "stdout",
          "output_type": "stream",
          "text": [
            "usage: jupyter [-h] [--version] [--config-dir] [--data-dir] [--runtime-dir]\n",
            "               [--paths] [--json] [--debug]\n",
            "               [subcommand]\n",
            "\n",
            "Jupyter: Interactive Computing\n",
            "\n",
            "positional arguments:\n",
            "  subcommand     the subcommand to launch\n",
            "\n",
            "optional arguments:\n",
            "  -h, --help     show this help message and exit\n",
            "  --version      show the versions of core jupyter packages and exit\n",
            "  --config-dir   show Jupyter config dir\n",
            "  --data-dir     show Jupyter data dir\n",
            "  --runtime-dir  show Jupyter runtime dir\n",
            "  --paths        show all Jupyter paths. Add --json for machine-readable\n",
            "                 format.\n",
            "  --json         output paths as machine-readable json\n",
            "  --debug        output debug information about paths\n",
            "\n",
            "Available subcommands: kernel kernelspec migrate run troubleshoot\n",
            "\n",
            "Jupyter command `jupyter-labextension` not found.\n"
          ]
        }
      ],
      "source": [
        "!jupyter labextension install @jupyter-widgets/jupyterlab-manager jupyter-leaflet"
      ]
    },
    {
      "cell_type": "code",
      "execution_count": 19,
      "id": "0ea7357f",
      "metadata": {},
      "outputs": [
        {
          "data": {
            "text/html": [
              "\n",
              "            <style>\n",
              "                .geemap-dark {\n",
              "                    --jp-widgets-color: white;\n",
              "                    --jp-widgets-label-color: white;\n",
              "                    --jp-ui-font-color1: white;\n",
              "                    --jp-layout-color2: #454545;\n",
              "                    background-color: #383838;\n",
              "                }\n",
              "                    \n",
              "                .geemap-dark .jupyter-button {\n",
              "                    --jp-layout-color3: #383838;\n",
              "                }\n",
              "                \n",
              "                .geemap-colab {\n",
              "                    background-color: var(--colab-primary-surface-color, white);\n",
              "                }\n",
              "                    \n",
              "                .geemap-colab .jupyter-button {\n",
              "                    --jp-layout-color3: var(--colab-primary-surface-color, white);\n",
              "                }\n",
              "            </style>\n",
              "            "
            ],
            "text/plain": [
              "<IPython.core.display.HTML object>"
            ]
          },
          "metadata": {},
          "output_type": "display_data"
        },
        {
          "data": {
            "application/vnd.jupyter.widget-view+json": {
              "model_id": "b3492465a07d462997e977534e628ff7",
              "version_major": 2,
              "version_minor": 0
            },
            "text/plain": [
              "IntSlider(value=0)"
            ]
          },
          "execution_count": 19,
          "metadata": {},
          "output_type": "execute_result"
        }
      ],
      "source": [
        "from ipywidgets import IntSlider\n",
        "slider = IntSlider()\n",
        "slider"
      ]
    },
    {
      "cell_type": "code",
      "execution_count": 17,
      "id": "cd086de6",
      "metadata": {},
      "outputs": [
        {
          "data": {
            "text/html": [
              "\n",
              "            <style>\n",
              "                .geemap-dark {\n",
              "                    --jp-widgets-color: white;\n",
              "                    --jp-widgets-label-color: white;\n",
              "                    --jp-ui-font-color1: white;\n",
              "                    --jp-layout-color2: #454545;\n",
              "                    background-color: #383838;\n",
              "                }\n",
              "                    \n",
              "                .geemap-dark .jupyter-button {\n",
              "                    --jp-layout-color3: #383838;\n",
              "                }\n",
              "                \n",
              "                .geemap-colab {\n",
              "                    background-color: var(--colab-primary-surface-color, white);\n",
              "                }\n",
              "                    \n",
              "                .geemap-colab .jupyter-button {\n",
              "                    --jp-layout-color3: var(--colab-primary-surface-color, white);\n",
              "                }\n",
              "            </style>\n",
              "            "
            ],
            "text/plain": [
              "<IPython.core.display.HTML object>"
            ]
          },
          "metadata": {},
          "output_type": "display_data"
        },
        {
          "data": {
            "application/vnd.jupyter.widget-view+json": {
              "model_id": "058f9fe92a914f6dbe179545ae4ee56f",
              "version_major": 2,
              "version_minor": 0
            },
            "text/plain": [
              "Map(center=[0.0, 0.0], controls=(ZoomControl(options=['position', 'zoom_in_text', 'zoom_in_title', 'zoom_out_t…"
            ]
          },
          "execution_count": 17,
          "metadata": {},
          "output_type": "execute_result"
        }
      ],
      "source": [
        "import ipyleaflet\n",
        "m = ipyleaflet.Map()\n",
        "m"
      ]
    },
    {
      "cell_type": "code",
      "execution_count": 14,
      "id": "85f4f957",
      "metadata": {},
      "outputs": [
        {
          "data": {
            "text/html": [
              "\n",
              "            <style>\n",
              "                .geemap-dark {\n",
              "                    --jp-widgets-color: white;\n",
              "                    --jp-widgets-label-color: white;\n",
              "                    --jp-ui-font-color1: white;\n",
              "                    --jp-layout-color2: #454545;\n",
              "                    background-color: #383838;\n",
              "                }\n",
              "                    \n",
              "                .geemap-dark .jupyter-button {\n",
              "                    --jp-layout-color3: #383838;\n",
              "                }\n",
              "                \n",
              "                .geemap-colab {\n",
              "                    background-color: var(--colab-primary-surface-color, white);\n",
              "                }\n",
              "                    \n",
              "                .geemap-colab .jupyter-button {\n",
              "                    --jp-layout-color3: var(--colab-primary-surface-color, white);\n",
              "                }\n",
              "            </style>\n",
              "            "
            ],
            "text/plain": [
              "<IPython.core.display.HTML object>"
            ]
          },
          "metadata": {},
          "output_type": "display_data"
        }
      ],
      "source": [
        "# Installs geemap package\n",
        "import subprocess\n",
        "\n",
        "try:\n",
        "    import geemap\n",
        "except ImportError:\n",
        "    print('Installing geemap ...')\n",
        "    subprocess.check_call([\"python\", '-m', 'pip', 'install', 'geemap'])"
      ]
    },
    {
      "cell_type": "code",
      "execution_count": 15,
      "id": "53fec8e7",
      "metadata": {},
      "outputs": [
        {
          "data": {
            "text/html": [
              "\n",
              "            <style>\n",
              "                .geemap-dark {\n",
              "                    --jp-widgets-color: white;\n",
              "                    --jp-widgets-label-color: white;\n",
              "                    --jp-ui-font-color1: white;\n",
              "                    --jp-layout-color2: #454545;\n",
              "                    background-color: #383838;\n",
              "                }\n",
              "                    \n",
              "                .geemap-dark .jupyter-button {\n",
              "                    --jp-layout-color3: #383838;\n",
              "                }\n",
              "                \n",
              "                .geemap-colab {\n",
              "                    background-color: var(--colab-primary-surface-color, white);\n",
              "                }\n",
              "                    \n",
              "                .geemap-colab .jupyter-button {\n",
              "                    --jp-layout-color3: var(--colab-primary-surface-color, white);\n",
              "                }\n",
              "            </style>\n",
              "            "
            ],
            "text/plain": [
              "<IPython.core.display.HTML object>"
            ]
          },
          "metadata": {},
          "output_type": "display_data"
        }
      ],
      "source": [
        "# import ee\n",
        "import geemap"
      ]
    },
    {
      "cell_type": "code",
      "execution_count": null,
      "id": "2c816877",
      "metadata": {},
      "outputs": [],
      "source": [
        "# geemap.update_package()"
      ]
    },
    {
      "cell_type": "markdown",
      "id": "d0ef2d11",
      "metadata": {},
      "source": [
        "## Create an interactive map\n",
        "The default basemap is Google Maps. Additional basemaps can be added using the Map.add_basemap() function."
      ]
    },
    {
      "cell_type": "code",
      "execution_count": 16,
      "id": "65a4ecce",
      "metadata": {},
      "outputs": [
        {
          "data": {
            "text/html": [
              "\n",
              "            <style>\n",
              "                .geemap-dark {\n",
              "                    --jp-widgets-color: white;\n",
              "                    --jp-widgets-label-color: white;\n",
              "                    --jp-ui-font-color1: white;\n",
              "                    --jp-layout-color2: #454545;\n",
              "                    background-color: #383838;\n",
              "                }\n",
              "                    \n",
              "                .geemap-dark .jupyter-button {\n",
              "                    --jp-layout-color3: #383838;\n",
              "                }\n",
              "                \n",
              "                .geemap-colab {\n",
              "                    background-color: var(--colab-primary-surface-color, white);\n",
              "                }\n",
              "                    \n",
              "                .geemap-colab .jupyter-button {\n",
              "                    --jp-layout-color3: var(--colab-primary-surface-color, white);\n",
              "                }\n",
              "            </style>\n",
              "            "
            ],
            "text/plain": [
              "<IPython.core.display.HTML object>"
            ]
          },
          "metadata": {},
          "output_type": "display_data"
        },
        {
          "data": {
            "application/vnd.jupyter.widget-view+json": {
              "model_id": "91bbe5fe6e7746cc9559b3fe20a9650f",
              "version_major": 2,
              "version_minor": 0
            },
            "text/plain": [
              "Map(center=[0, 0], controls=(WidgetControl(options=['position', 'transparent_bg'], widget=SearchDataGUI(childr…"
            ]
          },
          "execution_count": 16,
          "metadata": {},
          "output_type": "execute_result"
        }
      ],
      "source": [
        "Map = geemap.Map() #center=[40,-100], zoom=4)\n",
        "Map"
      ]
    },
    {
      "cell_type": "markdown",
      "id": "3e2584b2",
      "metadata": {},
      "source": [
        "## Visualizing Landsat Data with folium\n",
        "\n",
        "Now that we have fetched the Landsat data, let's visualize it on an interactive map using `folium`. We will display the Land Surface Temperature (LST) layer."
      ]
    },
    {
      "cell_type": "code",
      "execution_count": null,
      "id": "f5573252",
      "metadata": {},
      "outputs": [],
      "source": [
        "import folium\n",
        "from folium import plugins"
      ]
    },
    {
      "cell_type": "code",
      "execution_count": null,
      "id": "834eeebe",
      "metadata": {},
      "outputs": [],
      "source": [
        "# Define a method for displaying Earth Engine image tiles on a folium map.\n",
        "def add_ee_layer(self, ee_object, vis_params, name):\n",
        "    \n",
        "    try:    \n",
        "        tile_layer = None\n",
        "        # display ee.Image()\n",
        "        if isinstance(ee_object, ee.image.Image):    \n",
        "            map_id_dict = ee.Image(ee_object).getMapId(vis_params)\n",
        "            tile_layer = folium.raster_layers.TileLayer(\n",
        "            tiles = map_id_dict['tile_fetcher'].url_format,\n",
        "            attr = 'Google Earth Engine',\n",
        "            name = name,\n",
        "            overlay = True,\n",
        "            control = True\n",
        "            )\n",
        "            tile_layer.add_to(self)\n",
        "\n",
        "        # display ee.ImageCollection()\n",
        "        elif isinstance(ee_object, ee.imagecollection.ImageCollection):    \n",
        "            ee_object_new = ee_object.mosaic()\n",
        "            map_id_dict = ee.Image(ee_object_new).getMapId(vis_params)\n",
        "            tile_layer = folium.raster_layers.TileLayer(\n",
        "            tiles = map_id_dict['tile_fetcher'].url_format,\n",
        "            attr = 'Google Earth Engine',\n",
        "            name = name,\n",
        "            overlay = True,\n",
        "            control = True\n",
        "            )\n",
        "            tile_layer.add_to(self)\n",
        "\n",
        "        # display ee.Geometry()\n",
        "        elif isinstance(ee_object, ee.geometry.Geometry):    \n",
        "            folium.GeoJson(\n",
        "            data = ee_object.getInfo(),\n",
        "            name = name,\n",
        "            overlay = True,\n",
        "            control = True\n",
        "        ).add_to(self)\n",
        "\n",
        "        # display ee.FeatureCollection()\n",
        "        elif isinstance(ee_object, ee.featurecollection.FeatureCollection):  \n",
        "            ee_object_new = ee.Image().paint(ee_object, 0, 2)\n",
        "            map_id_dict = ee.Image(ee_object_new).getMapId(vis_params)\n",
        "            tile_layer = folium.raster_layers.TileLayer(\n",
        "            tiles = map_id_dict['tile_fetcher'].url_format,\n",
        "            attr = 'Google Earth Engine',\n",
        "            name = name,\n",
        "            overlay = True,\n",
        "            control = True\n",
        "        )\n",
        "        tile_layer.add_to(self)\n",
        "\n",
        "        print(tile_layer)\n",
        "        return tile_layer\n",
        "    except:\n",
        "        print(\"Could not display {}\".format(name))\n",
        "        return None\n",
        "\n",
        "\n",
        "# Add EE drawing method to folium.\n",
        "folium.Map.add_ee_layer = add_ee_layer"
      ]
    },
    {
      "cell_type": "code",
      "execution_count": null,
      "id": "0c670564-eaa5-47cf-87c6-0453dc64dde6",
      "metadata": {
        "noteable": {
          "cell_type": "code"
        }
      },
      "outputs": [],
      "source": [
        "# Get Landsat collection first image\n",
        "# ex_image = landsat_coll.first()\n",
        "\n",
        "# Visualization parameters\n",
        "cmap1 = ['blue', 'cyan', 'green', 'yellow', 'red']\n",
        "cmap2 = ['F2F2F2','EFC2B3','ECB176','E9BD3A','E6E600','63C600','00A600']\n",
        "\n",
        "\n",
        "# Add the Earth Engine layers to the folium map\n",
        "layers = [\n",
        "    {'band': 'TPW', 'vis_params': {'min': 0, 'max': 60, 'palette': cmap1}, 'name': 'TCWV'},\n",
        "    {'band': 'TPWpos', 'vis_params': {'min': 0, 'max': 9, 'palette': cmap1}, 'name': 'TCWVpos'},\n",
        "    {'band': 'FVC', 'vis_params': {'min': 0, 'max': 1, 'palette': cmap2}, 'name': 'FVC'},\n",
        "    {'band': 'EM', 'vis_params': {'min': 0.9, 'max': 1.0, 'palette': cmap1}, 'name': 'Emissivity'},\n",
        "    {'band': 'B10', 'vis_params': {'min': 290, 'max': 320, 'palette': cmap1}, 'name': 'TIR BT'},\n",
        "    {'band': 'LST', 'vis_params': {'min': 290, 'max': 320, 'palette': cmap1}, 'name': 'LST'} #,\n",
        "    # {'band': 'RGB', 'vis_params': {'bands': ['SR_B4', 'SR_B3', 'SR_B2'], 'min': 0, 'max': 0.3}, 'name': 'RGB'}\n",
        "]\n",
        "\n",
        "# https://stackoverflow.com/questions/64792041/white-gap-between-python-folium-map-and-jupyter-notebook-cell\n",
        "# Create a folium map object\n",
        "# from branca.element import Figure\n",
        "# fig = Figure(height=500) #width=600, \n",
        "my_map = folium.Map(location=[40.2, -8.6], zoom_start=10, height=500)\n",
        "# fig.add_child(my_map)\n",
        "\n",
        "tile_layers = [] \n",
        "for layer in layers:\n",
        "    # tile_layer = my_map.add_ee_layer(ex_image.select(layer['band']), layer['vis_params'], layer['name'])\n",
        "    tile_layer = my_map.add_ee_layer(landsat_coll.select(layer['band']), layer['vis_params'], layer['name'])\n",
        "    if tile_layer:\n",
        "        tile_layers.append(tile_layer)    \n",
        "\n",
        "# Add WmsTileLayers to time control.\n",
        "time = plugins.TimestampedWmsTileLayers(tile_layers)\n",
        "time.add_to(my_map)\n",
        "\n",
        "# Add a layer control panel to the map.\n",
        "my_map.add_child(folium.LayerControl())\n",
        "\n",
        "# Display the map\n",
        "my_map"
      ]
    },
    {
      "cell_type": "markdown",
      "id": "965f8699",
      "metadata": {},
      "source": [
        "## Explanation of Layers"
      ]
    },
    {
      "cell_type": "markdown",
      "id": "957537ee-6a2a-4103-949a-abcb786fa009",
      "metadata": {
        "noteable": {
          "cell_type": "markdown"
        }
      },
      "source": [
        "### TCWV (Total Column Water Vapor)\n",
        "This layer represents the Total Column Water Vapor (TCWV). Water vapor plays a crucial role in the Earth's energy balance, and its distribution is essential for weather forecasting and climate modeling. In the context of urban areas, understanding TCWV can provide insights into urban heat island effects and local climate variations.\n",
        "\n",
        "### TCWVpos\n",
        "This layer is a positive representation of the TCWV. It emphasizes areas with higher water vapor concentrations, which can be particularly relevant in urban climate studies to identify areas of increased humidity or potential heat stress.\n",
        "\n",
        "### FVC (Fractional Vegetation Cover)\n",
        "The Fractional Vegetation Cover (FVC) layer provides a measure of the proportion of ground covered by vegetation. In urban areas, vegetation can play a significant role in mitigating the urban heat island effect, providing shade, and improving air quality. Thus, understanding FVC can help in urban planning and sustainability efforts.\n",
        "\n",
        "### Emissivity\n",
        "Emissivity represents the efficiency of a surface in emitting thermal radiation. Different surfaces, such as buildings, roads, and vegetation, have different emissivity values. In urban areas, understanding surface emissivity can help in assessing the thermal properties of various surfaces and their contribution to local temperature variations.\n",
        "\n",
        "### TIR BT (Thermal Infrared Brightness Temperature)\n",
        "This layer represents the brightness temperature in the thermal infrared spectrum. It provides a direct measure of the surface temperature, which is crucial for understanding urban heat islands and local temperature variations.\n",
        "\n",
        "### LST (Land Surface Temperature)\n",
        "The Land Surface Temperature (LST) layer provides a measure of the temperature of the Earth's surface. In urban areas, LST can vary significantly due to factors like urban heat islands, surface materials, and vegetation cover. Understanding LST is essential for urban climate studies and health assessments.\n",
        "\n",
        "### RGB\n",
        "This layer provides a true-color representation of the area using the Red, Green, and Blue bands. It gives a visual context to the other layers and helps in understanding the spatial distribution of features like vegetation, water bodies, and urban infrastructure.\n",
        "\n",
        "The methodologies and significance of these layers are discussed in detail in the paper titled \"[An Open-Source Tool for Automated Quality Assessment of Landsat Surface Temperature over Urban Areas](https://www.mdpi.com/2072-4292/12/9/1471/pdf?version=1589365556)\" by Lorenzo Bigagli, Massimiliano Nole, Simone Mantovani, and Mattia Crespi."
      ]
    },
    {
      "cell_type": "code",
      "execution_count": null,
      "id": "611d6d90-294a-4936-8f88-5b4c8475439d",
      "metadata": {
        "ExecuteTime": {
          "end_time": "2023-09-10T11:01:24.554244+00:00",
          "start_time": "2023-09-10T11:01:23.934683+00:00"
        },
        "noteable": {
          "cell_type": "code",
          "output_collection_id": "2f384f52-38f3-4504-9796-49624dcb58b9"
        }
      },
      "outputs": [],
      "source": []
    }
  ],
  "metadata": {
    "kernel_info": {
      "name": "python3"
    },
    "kernelspec": {
      "display_name": "Python 3.9",
      "language": "python",
      "name": "python3"
    },
    "language_info": {
      "codemirror_mode": {
        "name": "ipython",
        "version": 3
      },
      "file_extension": ".py",
      "mimetype": "text/x-python",
      "name": "python",
      "nbconvert_exporter": "python",
      "pygments_lexer": "ipython3",
      "version": "3.9.2"
    },
    "noteable-chatgpt": {
      "create_notebook": {
        "openai_conversation_id": "5b206a8d-1381-5710-8ef9-6ea4c441d9ee",
        "openai_ephemeral_user_id": "6d6b62e2-4293-50fb-bd1f-908ad0cb15a1",
        "openai_subdivision1_iso_code": "PT-14"
      }
    },
    "selected_hardware_size": "small"
  },
  "nbformat": 4,
  "nbformat_minor": 5
}
