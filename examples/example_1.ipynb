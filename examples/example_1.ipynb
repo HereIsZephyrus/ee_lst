{
  "nbformat": 4,
  "nbformat_minor": 5,
  "metadata": {
    "noteable-chatgpt": {
      "create_notebook": {
        "openai_conversation_id": "5b206a8d-1381-5710-8ef9-6ea4c441d9ee",
        "openai_ephemeral_user_id": "6d6b62e2-4293-50fb-bd1f-908ad0cb15a1",
        "openai_subdivision1_iso_code": "PT-14"
      }
    },
    "kernel_info": {
      "name": "python3"
    },
    "kernelspec": {
      "display_name": "Python 3.9",
      "language": "python",
      "name": "python3"
    },
    "selected_hardware_size": "small"
  },
  "cells": [
    {
      "id": "a6186a3b-537b-4678-8199-021a0a3e957a",
      "cell_type": "code",
      "metadata": {
        "jupyter": {
          "outputs_hidden": false,
          "source_hidden": false
        },
        "noteable": {
          "cell_type": "code"
        }
      },
      "execution_count": null,
      "source": "",
      "outputs": []
    },
    {
      "id": "27c7ba38-7588-4597-966a-938df4f3c29d",
      "cell_type": "markdown",
      "source": "# Landsat LST Example\n\nIn this notebook, we will demonstrate how to fetch and visualize Landsat Land Surface Temperature (LST) data using the `ee_lst` library and Google Earth Engine. We'll use folium for interactive map visualizations with layer controls.",
      "metadata": {
        "noteable": {
          "cell_type": "markdown"
        }
      }
    },
    {
      "id": "6b7cfad2-ba2d-4143-bf4d-c006d36aeb2c",
      "cell_type": "code",
      "metadata": {
        "noteable": {
          "cell_type": "code"
        }
      },
      "execution_count": null,
      "source": "import ee\nimport folium\n\n# Initialize the Earth Engine API\nif not ee.data._initialized:\n    try:\n        ee.Initialize()\n    except Exception as e:\n        print(\"Please authenticate Google Earth Engine first.\")\n        ee.Authenticate()\n        ee.Initialize()\n\n# Define a method to display Earth Engine image tiles\ndef add_ee_layer(self, ee_image_object, vis_params, name):\n    map_id_dict = ee.Image(ee_image_object).getMapId(vis_params)\n    folium.raster_layers.TileLayer(\n        tiles=map_id_dict['tile_fetcher'].url_format,\n        attr='Map Data &copy; Google Earth Engine',\n        name=name,\n        overlay=True,\n        control=True\n    ).add_to(self)\n\n# Add EE drawing method to folium\nfolium.Map.add_ee_layer = add_ee_layer",
      "outputs": []
    },
    {
      "id": "2319a9ab-d975-433b-8b67-95c6ca410d9a",
      "cell_type": "markdown",
      "source": "## Fetching Landsat Data\n\nWe will fetch Landsat data for a specific region and time range. The data will include added variables such as NDVI, FVC, TPW, EM, and LST.",
      "metadata": {
        "noteable": {
          "cell_type": "markdown"
        }
      }
    },
    {
      "id": "5baeff27-ddfd-41d3-8b12-68c4d78ad4f6",
      "cell_type": "code",
      "metadata": {
        "noteable": {
          "cell_type": "code",
          "output_collection_id": "b27c00f7-8e69-4953-bc49-87e1b6f73e2a"
        },
        "ExecuteTime": {
          "end_time": "2023-09-10T10:43:49.758197+00:00",
          "start_time": "2023-09-10T10:43:49.407534+00:00"
        }
      },
      "execution_count": null,
      "source": "# Define the Landsat LST module (assuming you've refactored it to Python)\nfrom ee_lst.landsat_lst import fetch_landsat_collection\n\n# Define parameters\ngeometry = ee.Geometry.Rectangle([-8.91, 40.0, -8.3, 40.4])\nsatellite = 'L8'\ndate_start = '2022-05-15'\ndate_end = '2022-05-31'\nuse_ndvi = True\n\n# Get Landsat collection with added variables: NDVI, FVC, TPW, EM, LST\nlandsat_coll = fetch_landsat_collection(satellite, date_start, date_end, geometry, use_ndvi)\nex_image = landsat_coll.first()\n\n# Visualization parameters\ncmap1 = ['blue', 'cyan', 'green', 'yellow', 'red']\ncmap2 = ['F2F2F2','EFC2B3','ECB176','E9BD3A','E6E600','63C600','00A600']\n\n# Create a folium map object\nmy_map = folium.Map(location=[40.2, -8.6], zoom_start=10, height=500)\n\n# Add the Earth Engine layers to the folium map\nlayers = [\n    {'band': 'TPW', 'vis_params': {'min': 0, 'max': 60, 'palette': cmap1}, 'name': 'TCWV'},\n    {'band': 'TPWpos', 'vis_params': {'min': 0, 'max': 9, 'palette': cmap1}, 'name': 'TCWVpos'},\n    {'band': 'FVC', 'vis_params': {'min': 0, 'max': 1, 'palette': cmap2}, 'name': 'FVC'},\n    {'band': 'EM', 'vis_params': {'min': 0.9, 'max': 1.0, 'palette': cmap1}, 'name': 'Emissivity'},\n    {'band': 'B10', 'vis_params': {'min': 290, 'max': 320, 'palette': cmap1}, 'name': 'TIR BT'},\n    {'band': 'LST', 'vis_params': {'min': 290, 'max': 320, 'palette': cmap1}, 'name': 'LST'},\n    {'band': 'RGB', 'vis_params': {'bands': ['SR_B4', 'SR_B3', 'SR_B2'], 'min': 0, 'max': 0.3}, 'name': 'RGB'}\n]\n\nfor layer in layers:\n    my_map.add_ee_layer(ex_image.select(layer['band']), layer['vis_params'], layer['name'])\n\n# Display the map\nmy_map",
      "outputs": []
    },
    {
      "id": "0bc0c3e9-0e73-452a-9145-7ef8c6245c4e",
      "cell_type": "markdown",
      "source": "## Visualizing Landsat Data with Folium\n\nNow that we have fetched the Landsat data, let's visualize it on an interactive map using folium. We will display the Land Surface Temperature (LST) layer.",
      "metadata": {
        "noteable": {
          "cell_type": "markdown"
        }
      }
    },
    {
      "id": "a03efcee-8566-45c0-9823-6de2f8953294",
      "cell_type": "code",
      "metadata": {
        "noteable": {
          "cell_type": "code",
          "output_collection_id": "b2df2ad7-1d02-41e7-bb03-0df39ed33203"
        },
        "ExecuteTime": {
          "end_time": "2023-09-10T10:44:38.696282+00:00",
          "start_time": "2023-09-10T10:44:11.286760+00:00"
        }
      },
      "execution_count": null,
      "source": "!pip install -q git+https://github.com/lunasilvestre/ee_lst.git",
      "outputs": []
    },
    {
      "id": "0c670564-eaa5-47cf-87c6-0453dc64dde6",
      "cell_type": "code",
      "metadata": {
        "noteable": {
          "cell_type": "code"
        }
      },
      "execution_count": null,
      "source": "import ee_lst\n\n# Define the Landsat LST module\nfrom ee_lst.landsat_lst import fetch_landsat_collection\n\n# Define parameters\ngeometry = ee.Geometry.Rectangle([-8.91, 40.0, -8.3, 40.4])\nsatellite = 'L8'\ndate_start = '2022-05-15'\ndate_end = '2022-05-31'\nuse_ndvi = True\n\n# Get Landsat collection with added variables: NDVI, FVC, TPW, EM, LST\nlandsat_coll = fetch_landsat_collection(satellite, date_start, date_end, geometry, use_ndvi)\nex_image = landsat_coll.first()\n\n# Visualization parameters\ncmap1 = ['blue', 'cyan', 'green', 'yellow', 'red']\ncmap2 = ['F2F2F2','EFC2B3','ECB176','E9BD3A','E6E600','63C600','00A600']\n\n# Create a folium map object\nmy_map = folium.Map(location=[40.2, -8.6], zoom_start=10, height=500)\n\n# Add the Earth Engine layers to the folium map\nlayers = [\n    {'band': 'TPW', 'vis_params': {'min': 0, 'max': 60, 'palette': cmap1}, 'name': 'TCWV'},\n    {'band': 'TPWpos', 'vis_params': {'min': 0, 'max': 9, 'palette': cmap1}, 'name': 'TCWVpos'},\n    {'band': 'FVC', 'vis_params': {'min': 0, 'max': 1, 'palette': cmap2}, 'name': 'FVC'},\n    {'band': 'EM', 'vis_params': {'min': 0.9, 'max': 1.0, 'palette': cmap1}, 'name': 'Emissivity'},\n    {'band': 'B10', 'vis_params': {'min': 290, 'max': 320, 'palette': cmap1}, 'name': 'TIR BT'},\n    {'band': 'LST', 'vis_params': {'min': 290, 'max': 320, 'palette': cmap1}, 'name': 'LST'},\n    {'band': 'RGB', 'vis_params': {'bands': ['SR_B4', 'SR_B3', 'SR_B2'], 'min': 0, 'max': 0.3}, 'name': 'RGB'}\n]\n\nfor layer in layers:\n    my_map.add_ee_layer(ex_image.select(layer['band']), layer['vis_params'], layer['name'])\n\n# Display the map\nmy_map",
      "outputs": []
    },
    {
      "id": "957537ee-6a2a-4103-949a-abcb786fa009",
      "cell_type": "markdown",
      "source": "## Explanation of Layers\n\n### TCWV (Total Column Water Vapor)\nThis layer represents the Total Column Water Vapor (TCWV). Water vapor plays a crucial role in the Earth's energy balance, and its distribution is essential for weather forecasting and climate modeling. In the context of urban areas, understanding TCWV can provide insights into urban heat island effects and local climate variations.\n\n### TCWVpos\nThis layer is a positive representation of the TCWV. It emphasizes areas with higher water vapor concentrations, which can be particularly relevant in urban climate studies to identify areas of increased humidity or potential heat stress.\n\n### FVC (Fractional Vegetation Cover)\nThe Fractional Vegetation Cover (FVC) layer provides a measure of the proportion of ground covered by vegetation. In urban areas, vegetation can play a significant role in mitigating the urban heat island effect, providing shade, and improving air quality. Thus, understanding FVC can help in urban planning and sustainability efforts.\n\n### Emissivity\nEmissivity represents the efficiency of a surface in emitting thermal radiation. Different surfaces, such as buildings, roads, and vegetation, have different emissivity values. In urban areas, understanding surface emissivity can help in assessing the thermal properties of various surfaces and their contribution to local temperature variations.\n\n### TIR BT (Thermal Infrared Brightness Temperature)\nThis layer represents the brightness temperature in the thermal infrared spectrum. It provides a direct measure of the surface temperature, which is crucial for understanding urban heat islands and local temperature variations.\n\n### LST (Land Surface Temperature)\nThe Land Surface Temperature (LST) layer provides a measure of the temperature of the Earth's surface. In urban areas, LST can vary significantly due to factors like urban heat islands, surface materials, and vegetation cover. Understanding LST is essential for urban climate studies and health assessments.\n\n### RGB\nThis layer provides a true-color representation of the area using the Red, Green, and Blue bands. It gives a visual context to the other layers and helps in understanding the spatial distribution of features like vegetation, water bodies, and urban infrastructure.\n\nThe methodologies and significance of these layers are discussed in detail in the paper titled \"[An Open-Source Tool for Automated Quality Assessment of Landsat Surface Temperature over Urban Areas](https://www.mdpi.com/2072-4292/12/9/1471/pdf?version=1589365556)\" by Lorenzo Bigagli, Massimiliano Nole, Simone Mantovani, and Mattia Crespi.",
      "metadata": {
        "noteable": {
          "cell_type": "markdown"
        }
      }
    },
    {
      "id": "611d6d90-294a-4936-8f88-5b4c8475439d",
      "cell_type": "code",
      "metadata": {
        "noteable": {
          "cell_type": "code",
          "output_collection_id": "2f384f52-38f3-4504-9796-49624dcb58b9"
        },
        "ExecuteTime": {
          "end_time": "2023-09-10T11:01:24.554244+00:00",
          "start_time": "2023-09-10T11:01:23.934683+00:00"
        }
      },
      "execution_count": null,
      "source": "import ee\nimport folium\nfrom folium import plugins\n\n# Initialize the Earth Engine module.\nee.Initialize()\n\ndef add_ee_layer(self, ee_object, vis_params, name):\n    \"\"\"\n    Adds a method for displaying Earth Engine image tiles to folium map.\n    \"\"\"\n    try:\n        # display ee.Image()\n        if isinstance(ee_object, ee.image.Image):\n            map_id_dict = ee.Image(ee_object).getMapId(vis_params)\n            folium.raster_layers.TileLayer(\n                tiles=map_id_dict['tile_fetcher'].url_format,\n                attr='Google Earth Engine',\n                name=name,\n                overlay=True,\n                control=True\n            ).add_to(self)\n        # display ee.ImageCollection()\n        elif isinstance(ee_object, ee.imagecollection.ImageCollection):\n            ee_object_new = ee_object.mosaic()\n            map_id_dict = ee.Image(ee_object_new).getMapId(vis_params)\n            folium.raster_layers.TileLayer(\n                tiles=map_id_dict['tile_fetcher'].url_format,\n                attr='Google Earth Engine',\n                name=name,\n                overlay=True,\n                control=True\n            ).add_to(self)\n        # display ee.Geometry()\n        elif isinstance(ee_object, ee.geometry.Geometry):\n            folium.GeoJson(\n                data=ee_object.getInfo(),\n                name=name,\n                overlay=True,\n                control=True\n            ).add_to(self)\n        # display ee.FeatureCollection()\n        elif isinstance(ee_object, ee.featurecollection.FeatureCollection):\n            ee_object_new = ee.Image().paint(ee_object, 0, 2)\n            map_id_dict = ee.Image(ee_object_new).getMapId(vis_params)\n            folium.raster_layers.TileLayer(\n                tiles=map_id_dict['tile_fetcher'].url_format,\n                attr='Google Earth Engine',\n                name=name,\n                overlay=True,\n                control=True\n            ).add_to(self)\n    except:\n        print('Could not display {}'.format(name))\n\n# Add EE drawing method to folium.\nfolium.Map.add_ee_layer = add_ee_layer\n\n# Set visualization parameters.\nvis_params = {\n  'min': 0,\n  'max': 4000,\n  'palette': ['006633', 'E5FFCC', '662A00', 'D8D8D8', 'F5F5F5']\n}\n\n# Create a folium map object.\nmy_map = folium.Map(location=[20, 0], zoom_start=3, height=500)\n\n# Add custom basemaps\nbasemaps = {\n    'Google Maps': folium.TileLayer(\n        tiles='https://mt1.google.com/vt/lyrs=m&x={x}&y={y}&z={z}',\n        attr='Google',\n        name='Google Maps',\n        overlay=True,\n        control=True\n    ),\n    'Google Satellite': folium.TileLayer(\n        tiles='https://mt1.google.com/vt/lyrs=s&x={x}&y={y}&z={z}',\n        attr='Google',\n        name='Google Satellite',\n        overlay=True,\n        control=True\n    )\n}\n\nbasemaps['Google Maps'].add_to(my_map)\nbasemaps['Google Satellite'].add_to(my_map)\n\nmy_map",
      "outputs": []
    },
    {
      "id": "9df38957-dc5d-42b7-8401-6597e3f5b2f0",
      "cell_type": "markdown",
      "source": "## Landsat LST Example\n\nIn this notebook, we will visualize various layers related to the Landsat Land Surface Temperature (LST) retrieval algorithm. The layers are derived from the `example_1.py` script, and the explanations are based on the paper titled [\"A Google Earth Engine Free App for Estimating Near-Real Time Daily Surface Temperature from Landsat Data\"](https://www.mdpi.com/2072-4292/12/9/1471/pdf?version=1589365556).\n\nLet's start by visualizing the first layer.",
      "metadata": {
        "noteable": {
          "cell_type": "markdown"
        }
      }
    },
    {
      "id": "02f9461e-a771-4bad-af0a-88789f14107a",
      "cell_type": "code",
      "metadata": {
        "noteable": {
          "cell_type": "code"
        }
      },
      "execution_count": null,
      "source": "import ee\nimport folium\n\n# Initialize the Earth Engine API\nif not ee.data._initialized:\n    try:\n        ee.Initialize()\n    except Exception as e:\n        print(\"Please authenticate Google Earth Engine first.\")\n        ee.Authenticate()\n        ee.Initialize()\n\n# Define the Landsat LST module (assuming you've refactored it to Python)\nfrom ee_lst.landsat_lst import fetch_landsat_collection\n\n# Define parameters\ngeometry = ee.Geometry.Rectangle([-8.91, 40.0, -8.3, 40.4])\nsatellite = 'L8'\ndate_start = '2022-05-15'\ndate_end = '2022-05-31'\nuse_ndvi = True\n\n# Get Landsat collection with added variables: NDVI, FVC, TPW, EM, LST\nlandsat_coll = fetch_landsat_collection(satellite, date_start, date_end, geometry, use_ndvi)\nprint(landsat_coll.getInfo())\n\n# Select the first feature\nex_image = landsat_coll.first()\n\n# Visualization parameters\ncmap1 = ['blue', 'cyan', 'green', 'yellow', 'red']\ncmap2 = ['F2F2F2','EFC2B3','ECB176','E9BD3A','E6E600','63C600','00A600']\n\n# Define a method to display Earth Engine image tiles\ndef add_ee_layer(self, ee_image_object, vis_params, name):\n    map_id_dict = ee.Image(ee_image_object).getMapId(vis_params)\n    folium.raster_layers.TileLayer(\n        tiles=map_id_dict['tile_fetcher'].url_format,\n        attr='Map Data &copy; Google Earth Engine',\n        name=name,\n        overlay=True,\n        control=True\n    ).add_to(self)\n\n# Add EE drawing method to folium\nfolium.Map.add_ee_layer = add_ee_layer\n\n# Create a folium map object\nmy_map = folium.Map(location=[40.2, -8.6], zoom_start=10, height=500)\n\n# Add the Earth Engine layers to the folium map\nmy_map.add_ee_layer(ex_image.select('TPW'), {'min': 0, 'max': 60, 'palette': cmap1}, 'TCWV')\nmy_map.add_ee_layer(ex_image.select('TPWpos'), {'min': 0, 'max': 9, 'palette': cmap1}, 'TCWVpos')\nmy_map.add_ee_layer(ex_image.select('FVC'), {'min': 0, 'max': 1, 'palette': cmap2}, 'FVC')\nmy_map.add_ee_layer(ex_image.select('EM'), {'min': 0.9, 'max': 1.0, 'palette': cmap1}, 'Emissivity')\nmy_map.add_ee_layer(ex_image.select('B10'), {'min': 290, 'max': 320, 'palette': cmap1}, 'TIR BT')\nmy_map.add_ee_layer(ex_image.select('LST'), {'min': 290, 'max': 320, 'palette': cmap1}, 'LST')\nmy_map.add_ee_layer(ex_image.multiply(0.0000275).add(-0.2), {'bands': ['SR_B4', 'SR_B3', 'SR_B2'], 'min': 0, 'max': 0.3}, 'RGB')\n\n# Add layer control to the map\nfolium.LayerControl().add_to(my_map)\n\n# Display the map\nmy_map",
      "outputs": []
    },
    {
      "id": "642d1de9-2108-4edc-a4a4-dbd24d07e654",
      "cell_type": "markdown",
      "source": "### LST (Land Surface Temperature) Layer\n\nLand Surface Temperature (LST) is a key parameter in the physics of land surface processes on a global scale, bridging the radiative, turbulent, and biological fluxes at the surface-atmosphere interface. The LST layer represents the temperature of the land surface, which can be influenced by various factors including vegetation cover, soil moisture, and atmospheric conditions.\n\nIn the paper, the authors describe the algorithm for retrieving LST from Landsat data. The algorithm coefficients A_i, B_i, and C_i are determined from linear regressions of radiative transfer simulations performed for 10 classes of TCWV, ranging from 0 to 6 cm in steps of 0.6 cm. Values of TCWV above 6 cm are assigned to the last class. The algorithm is calibrated for each Landsat satellite separately due to their different spectral response functions.\n\nLet's visualize the LST layer.",
      "metadata": {
        "noteable": {
          "cell_type": "markdown"
        }
      }
    },
    {
      "id": "2250b2f6-a6d2-4a68-affe-c94fcfd34a5f",
      "cell_type": "code",
      "metadata": {
        "noteable": {
          "cell_type": "code"
        }
      },
      "execution_count": null,
      "source": "# Define the LST layer\nlst_image = ee.Image('LANDSAT/LC08/C01/T1_TOA/LC08_044034_20140318').select('B10')\nlst_params = {'min': 0, 'max': 300, 'palette': ['blue', 'yellow', 'red']}\n\n# Add the LST layer to the map\nmy_map.add_ee_layer(lst_image, lst_params, 'LST')\n\n# Display the map\nmy_map",
      "outputs": []
    }
  ]
}